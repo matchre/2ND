{
  "cells": [
    {
      "cell_type": "markdown",
      "source": [
        "# Algorithmes de Seconde - 2019"
      ],
      "metadata": {}
    },
    {
      "cell_type": "markdown",
      "source": [
        "# Partie \"Nombres et calculs\""
      ],
      "metadata": {}
    },
    {
      "cell_type": "markdown",
      "source": [
        "## 1. Déterminer par balayage un encadrement de $\\sqrt{2}$ d’amplitude inférieure ou égale à $10^{-n}$."
      ],
      "metadata": {}
    },
    {
      "cell_type": "markdown",
      "source": [
        "On utilise le fait que la fonction carré est croisante et, en partant de 1, on calcule les carrés des nombres tant qu'ils sont plus petits que 2, en avançant à chaque fois d'un pas de $10^{-n}.$"
      ],
      "metadata": {}
    },
    {
      "cell_type": "code",
      "source": [
        "def BalayageRacine2(pas):   # Le pas sera de la forme 1O^{-n}\n",
        "    x = 1\n",
        "    while x*x <=2:\n",
        "        x = x + pas\n",
        "    return (x-pas,x)"
      ],
      "outputs": [],
      "execution_count": 45,
      "metadata": {}
    },
    {
      "cell_type": "code",
      "source": [
        "BalayageRacine2(0.0001)"
      ],
      "outputs": [
        {
          "output_type": "execute_result",
          "execution_count": 46,
          "data": {
            "text/plain": [
              "(1.4141999999999544, 1.4142999999999544)"
            ]
          },
          "metadata": {}
        }
      ],
      "execution_count": 46,
      "metadata": {}
    },
    {
      "cell_type": "markdown",
      "source": [
        "------------------"
      ],
      "metadata": {}
    },
    {
      "cell_type": "markdown",
      "source": [
        "## 2. Déterminer si un entier naturel $a$ est multiple d’un entier naturel $b$."
      ],
      "metadata": {}
    },
    {
      "cell_type": "markdown",
      "source": [
        "On peut résoudre ce problème à l'aide de plusieurs algorithmes selon qu'on veuille ou non utiliser le reste de la division euclidienne fourni par Python"
      ],
      "metadata": {}
    },
    {
      "cell_type": "code",
      "source": [
        "def AestmultipledeB(a,b):\n",
        "    if a%b == 0:\n",
        "        return True\n",
        "    else:\n",
        "        return False"
      ],
      "outputs": [],
      "execution_count": 3,
      "metadata": {}
    },
    {
      "cell_type": "code",
      "source": [
        "AestmultipledeB(2024,6)"
      ],
      "outputs": [
        {
          "output_type": "execute_result",
          "execution_count": 4,
          "data": {
            "text/plain": [
              "False"
            ]
          },
          "metadata": {}
        }
      ],
      "execution_count": 4,
      "metadata": {}
    },
    {
      "cell_type": "code",
      "source": [
        "def AestmultipledeB_2(a,b):\n",
        "    n = 0  \n",
        "    while n*b < a:\n",
        "        n = n+1\n",
        "    if n*b==a:\n",
        "        return True\n",
        "    else:\n",
        "        return False"
      ],
      "outputs": [],
      "execution_count": 8,
      "metadata": {}
    },
    {
      "cell_type": "code",
      "source": [
        "AestmultipledeB_2(2024,4)"
      ],
      "outputs": [
        {
          "output_type": "execute_result",
          "execution_count": 9,
          "data": {
            "text/plain": [
              "True"
            ]
          },
          "metadata": {}
        }
      ],
      "execution_count": 9,
      "metadata": {}
    },
    {
      "cell_type": "markdown",
      "source": [
        "------------------"
      ],
      "metadata": {}
    },
    {
      "cell_type": "markdown",
      "source": [
        "## 3. Pour des entiers $a$ et $b$ donnés, déterminer le plus grand multiple de $b$ inférieur ou égal à $a$."
      ],
      "metadata": {}
    },
    {
      "cell_type": "markdown",
      "source": [
        "On suppose que $b\\leqslant a$ et on teste successivement les multiples de $b$ tant qu'ils sont inférieurs ou égaux à $a$. La fonction renvoie le multiple de $b$ précédent donc $(n-1)\\times b$.\n",
        "\n",
        "**Remarque:**\n",
        "\nOn peut améliorer l'algorithme en commençant par tester si $b\\leqslant a$."
      ],
      "metadata": {}
    },
    {
      "cell_type": "code",
      "source": [
        "def PlusGrandMultiple(a,b):\n",
        "    n = 1\n",
        "    while n*b<=a:\n",
        "        n = n+1\n",
        "    return (n-1)*b"
      ],
      "outputs": [],
      "execution_count": 11,
      "metadata": {}
    },
    {
      "cell_type": "code",
      "source": [
        "PlusGrandMultiple(172,17)"
      ],
      "outputs": [
        {
          "output_type": "execute_result",
          "execution_count": 17,
          "data": {
            "text/plain": [
              "170"
            ]
          },
          "metadata": {}
        }
      ],
      "execution_count": 17,
      "metadata": {}
    },
    {
      "cell_type": "markdown",
      "source": [
        "------------------"
      ],
      "metadata": {}
    },
    {
      "cell_type": "markdown",
      "source": [
        "## 4. Déterminer si un entier naturel est premier"
      ],
      "metadata": {}
    },
    {
      "cell_type": "markdown",
      "source": [
        "On utilise l'opération **n%i** qui renvoie le reste de la division euclidienne de $n$ par $i$. On teste tous les entiers compris entre 2 et $n-1$ pour savoir s'ils sont diviseurs de $n$.\n",
        "\n",
        "**Remarques:** \n",
        "- La fonction utilise le fait que dès qu'un appel à **return** est effectué, la fonction d'arrête.\n",
        "- On peut améliorer l'algorithme en s'arrêtant plus tôt et n'allant pas jusqu'à $n$ dans la boucle *Pour*."
      ],
      "metadata": {}
    },
    {
      "cell_type": "code",
      "source": [
        "def EstilPremier(n):\n",
        "    for i in range(2,n):\n",
        "        if n%i==0:\n",
        "            return False\n",
        "    return True"
      ],
      "outputs": [],
      "execution_count": 1,
      "metadata": {}
    },
    {
      "cell_type": "code",
      "source": [
        "EstilPremier(97)"
      ],
      "outputs": [
        {
          "output_type": "execute_result",
          "execution_count": 2,
          "data": {
            "text/plain": [
              "True"
            ]
          },
          "metadata": {}
        }
      ],
      "execution_count": 2,
      "metadata": {}
    },
    {
      "cell_type": "code",
      "source": [
        "EstilPremier(203)"
      ],
      "outputs": [
        {
          "output_type": "execute_result",
          "execution_count": 3,
          "data": {
            "text/plain": [
              "False"
            ]
          },
          "metadata": {}
        }
      ],
      "execution_count": 3,
      "metadata": {}
    },
    {
      "cell_type": "markdown",
      "source": [
        "### Une variante de l'algorithme basée sur l'obtention de la liste des diviseurs\n",
        "On peut créer une fonction qui détermine dans un premier temps la liste des diviseurs de l'entier $n$ puis qui teste si la longueur de cette liste est égale à 2 (cas d'un nombre premier) ou pas.\n",
        "\n",
        "**Remarque:**\n",
        "\nLa fonction renvoie un booléen, qu'il est facile de récupérer ensuite dans un autre fonction, et la liste des diviseurs: il est en effet intéressant dans un premier temps d'observer cette liste, on peut ensuite s'en dispenser et ne garder que le booléen."
      ],
      "metadata": {}
    },
    {
      "cell_type": "code",
      "source": [
        "def EstilPremier2(n):\n",
        "    ListeDiviseurs=[]\n",
        "    for i in range(1,n+1):\n",
        "        if n%i==0:\n",
        "            ListeDiviseurs=ListeDiviseurs+[i]  # On peut aussi utiliser la méthode .append\n",
        "    if len(ListeDiviseurs)==2:\n",
        "        return True,ListeDiviseurs\n",
        "    else:\n",
        "        return False,ListeDiviseurs"
      ],
      "outputs": [],
      "execution_count": 8,
      "metadata": {}
    },
    {
      "cell_type": "code",
      "source": [
        "EstilPremier2(97)"
      ],
      "outputs": [
        {
          "output_type": "execute_result",
          "execution_count": 9,
          "data": {
            "text/plain": [
              "(True, [1, 97])"
            ]
          },
          "metadata": {}
        }
      ],
      "execution_count": 9,
      "metadata": {}
    },
    {
      "cell_type": "code",
      "source": [
        "EstilPremier2(203)"
      ],
      "outputs": [
        {
          "output_type": "execute_result",
          "execution_count": 10,
          "data": {
            "text/plain": [
              "(False, [1, 7, 29, 203])"
            ]
          },
          "metadata": {}
        }
      ],
      "execution_count": 10,
      "metadata": {}
    },
    {
      "cell_type": "markdown",
      "source": [
        "### Une variante utilisant la fonction précédemment définie pour savoir si $a$ est un multiple de $b$"
      ],
      "metadata": {}
    },
    {
      "cell_type": "markdown",
      "source": [
        "Plutôt que d'utiliser la division euclidienne de Python, on utilse la fonction précédemment définie ce qui renforce la conception modulaire des algorithmes chez les élèves."
      ],
      "metadata": {}
    },
    {
      "cell_type": "code",
      "source": [
        "def EstilPremier3(n):\n",
        "    for i in range(2,n):\n",
        "        if AestmultipledeB_2(n,i):\n",
        "            return False\n",
        "    return True"
      ],
      "outputs": [],
      "execution_count": 10,
      "metadata": {}
    },
    {
      "cell_type": "code",
      "source": [
        "EstilPremier3(97)"
      ],
      "outputs": [
        {
          "output_type": "execute_result",
          "execution_count": 11,
          "data": {
            "text/plain": [
              "True"
            ]
          },
          "metadata": {}
        }
      ],
      "execution_count": 11,
      "metadata": {}
    },
    {
      "cell_type": "code",
      "source": [
        "EstilPremier3(203)"
      ],
      "outputs": [
        {
          "output_type": "execute_result",
          "execution_count": 12,
          "data": {
            "text/plain": [
              "False"
            ]
          },
          "metadata": {}
        }
      ],
      "execution_count": 12,
      "metadata": {}
    },
    {
      "cell_type": "markdown",
      "source": [
        "------------------"
      ],
      "metadata": {}
    },
    {
      "cell_type": "markdown",
      "source": [
        "## 5. Déterminer la première puissance d’un nombre positif donné supérieure ou inférieure à une valeur donnée."
      ],
      "metadata": {}
    },
    {
      "cell_type": "markdown",
      "source": [
        "On s'inspire de l'algorithme utilisé pour résoudre le problème \"Pour des entiers $a$ et $b$ donnés, déterminer le plus grand multiple de $b$ inférieur ou égal à $a$\".\n",
        "\nOn cherche la première puissance de $b$ inférieure (strictement) ou supérieure (strictement) à $a$ dans le cas où $a$ n'est pas une puissance de $b$."
      ],
      "metadata": {}
    },
    {
      "cell_type": "code",
      "source": [
        "def PremierePuissanceInferieure(a,b):\n",
        "    puissance = 1\n",
        "    while puissance < a:\n",
        "        puissance = puissance * b\n",
        "    return puissance/b"
      ],
      "outputs": [],
      "execution_count": 13,
      "metadata": {}
    },
    {
      "cell_type": "code",
      "source": [
        "PremierePuissanceInferieure(37698,14)"
      ],
      "outputs": [
        {
          "output_type": "execute_result",
          "execution_count": 14,
          "data": {
            "text/plain": [
              "2744.0"
            ]
          },
          "metadata": {}
        }
      ],
      "execution_count": 14,
      "metadata": {}
    },
    {
      "cell_type": "code",
      "source": [
        "def PremierePuissanceSuperieure(a,b):\n",
        "    puissance = 1\n",
        "    while puissance < a:\n",
        "        puissance = puissance * b\n",
        "    return puissance"
      ],
      "outputs": [],
      "execution_count": 16,
      "metadata": {}
    },
    {
      "cell_type": "code",
      "source": [
        "PremierePuissanceSuperieure(37698,14)"
      ],
      "outputs": [
        {
          "output_type": "execute_result",
          "execution_count": 17,
          "data": {
            "text/plain": [
              "38416"
            ]
          },
          "metadata": {}
        }
      ],
      "execution_count": 17,
      "metadata": {}
    },
    {
      "cell_type": "markdown",
      "source": [
        "**Remarque:** On peut améliorer l'algorithme en testant d'abord sir le nombre $a$ est une puissance de $b$ puis, si ce n'est pas le cas, renvoyer les deux puissances de $b$ qui encadrent $a$."
      ],
      "metadata": {}
    },
    {
      "cell_type": "code",
      "source": [
        "def PremieresPuissances(a,b):\n",
        "    n=0\n",
        "    while b**n<a:\n",
        "        n = n+1\n",
        "    if b**n==a:\n",
        "        return 'a est une puissance de b'\n",
        "    else:\n",
        "        return PremierePuissanceInferieure(a,b),PremierePuissanceSuperieure(a,b)"
      ],
      "outputs": [],
      "execution_count": 20,
      "metadata": {}
    },
    {
      "cell_type": "code",
      "source": [
        "PremieresPuissances(1000,10)"
      ],
      "outputs": [
        {
          "output_type": "execute_result",
          "execution_count": 21,
          "data": {
            "text/plain": [
              "'a est une puissance de b'"
            ]
          },
          "metadata": {}
        }
      ],
      "execution_count": 21,
      "metadata": {}
    },
    {
      "cell_type": "code",
      "source": [
        "PremieresPuissances(2345678,10)"
      ],
      "outputs": [
        {
          "output_type": "execute_result",
          "execution_count": 22,
          "data": {
            "text/plain": [
              "(1000000.0, 10000000)"
            ]
          },
          "metadata": {}
        }
      ],
      "execution_count": 22,
      "metadata": {}
    },
    {
      "cell_type": "markdown",
      "source": [
        "------------------"
      ],
      "metadata": {}
    },
    {
      "cell_type": "markdown",
      "source": [
        "# Partie \"Géométrie\""
      ],
      "metadata": {}
    },
    {
      "cell_type": "markdown",
      "source": [
        "## 1. Étudier l’alignement de trois points dans le plan."
      ],
      "metadata": {}
    },
    {
      "cell_type": "markdown",
      "source": [
        "La référence à cet algorithme apparait dans le programme officiel dans la partie \"Représenter et caractériser les droites du plan\". On peut donc utiliser cette approche pour étudier l'alignement de trois points du plan. \n",
        "On peut également faire référence à la colinéarité des vecteurs en utilisant le déterminant de deux vecteurs.\n",
        "\nÀ noter qu'il faut prendre garde aux tests d'égalités avec des flottants !"
      ],
      "metadata": {}
    },
    {
      "cell_type": "markdown",
      "source": [
        "### Version utilisant les équations de droites"
      ],
      "metadata": {}
    },
    {
      "cell_type": "markdown",
      "source": [
        "On détermine le coefficient directeur et l'ordonnée à l'origine de la droite formée par les deux premiers points (dans le cas où ils ont des abscisses différentes) puis on teste si les coordonnées du troisième point vérifient ou non l'équation de la droite."
      ],
      "metadata": {}
    },
    {
      "cell_type": "code",
      "source": [
        "def CoefficientDirecteur(x1,y1,x2,y2): # On se place dans le cas où x1 est différent de x2\n",
        "    return (y2-y1)/(x2-x1)\n",
        "\n",
        "def OrdonneeALorigine(x1,y1,x2,y2): # On se place dans la cas où x1 est différence de x3\n",
        "    return y1-CoefficientDirecteur(x1,y1,x2,y2)*x1\n",
        "\n",
        "def PointsAlignes(x1,y1,x2,y2,x3,y3):\n",
        "    if abs(x1-x2) < 10**(-12):\n",
        "        if abs(x1-x3) < 10**(-12):\n",
        "            return True\n",
        "        else:\n",
        "            return False\n",
        "    else:\n",
        "        a = CoefficientDirecteur(x1,y1,x2,y2)\n",
        "        b = OrdonneeALorigine(x1,y1,x2,y2)\n",
        "        if abs(y3-a*x3-b) < 10**(-12):\n",
        "            return True\n",
        "        else:\n",
        "            return False"
      ],
      "outputs": [],
      "execution_count": 25,
      "metadata": {}
    },
    {
      "cell_type": "code",
      "source": [
        "PointsAlignes(3,4,3,5,3.1,6)"
      ],
      "outputs": [
        {
          "output_type": "execute_result",
          "execution_count": 26,
          "data": {
            "text/plain": [
              "False"
            ]
          },
          "metadata": {}
        }
      ],
      "execution_count": 26,
      "metadata": {}
    },
    {
      "cell_type": "code",
      "source": [
        "PointsAlignes(3,4,3,5,3,6)"
      ],
      "outputs": [
        {
          "output_type": "execute_result",
          "execution_count": 27,
          "data": {
            "text/plain": [
              "True"
            ]
          },
          "metadata": {}
        }
      ],
      "execution_count": 27,
      "metadata": {}
    },
    {
      "cell_type": "code",
      "source": [
        "PointsAlignes(2,3,7,8,17,18)"
      ],
      "outputs": [
        {
          "output_type": "execute_result",
          "execution_count": 28,
          "data": {
            "text/plain": [
              "True"
            ]
          },
          "metadata": {}
        }
      ],
      "execution_count": 28,
      "metadata": {}
    },
    {
      "cell_type": "code",
      "source": [
        "PointsAlignes(2,3,7,8,17,18.001)"
      ],
      "outputs": [
        {
          "output_type": "execute_result",
          "execution_count": 29,
          "data": {
            "text/plain": [
              "False"
            ]
          },
          "metadata": {}
        }
      ],
      "execution_count": 29,
      "metadata": {}
    },
    {
      "cell_type": "markdown",
      "source": [
        "### Version utilisant la colinéarité de vecteurs"
      ],
      "metadata": {}
    },
    {
      "cell_type": "markdown",
      "source": [
        "On crée d'abord une fonction calculant le déterminant de deux vecteurs que l'on réinvestit ensuite."
      ],
      "metadata": {}
    },
    {
      "cell_type": "code",
      "source": [
        "def determinant(xu,yu,xv,yv):\n",
        "    return xu*yv-yu*xv\n",
        "\n",
        "def PointsAlignes2(x1,y1,x2,y2,x3,y3):\n",
        "    if abs(determinant(x2-x1,y2-y1,x3-x1,y3-y1))<10**(-12):\n",
        "        return True\n",
        "    else:\n",
        "        return False"
      ],
      "outputs": [],
      "execution_count": 38,
      "metadata": {}
    },
    {
      "cell_type": "code",
      "source": [
        "PointsAlignes2(2,3,7,8,17,18)"
      ],
      "outputs": [
        {
          "output_type": "execute_result",
          "execution_count": 40,
          "data": {
            "text/plain": [
              "True"
            ]
          },
          "metadata": {}
        }
      ],
      "execution_count": 40,
      "metadata": {}
    },
    {
      "cell_type": "code",
      "source": [
        "PointsAlignes2(2,3,7,8,17,18.001)"
      ],
      "outputs": [
        {
          "output_type": "execute_result",
          "execution_count": 41,
          "data": {
            "text/plain": [
              "False"
            ]
          },
          "metadata": {}
        }
      ],
      "execution_count": 41,
      "metadata": {}
    },
    {
      "cell_type": "markdown",
      "source": [
        "------------------"
      ],
      "metadata": {}
    },
    {
      "cell_type": "markdown",
      "source": [
        "## 2. Déterminer une équation de droite passant par deux points donnés."
      ],
      "metadata": {}
    },
    {
      "cell_type": "markdown",
      "source": [
        "Dans le cas où les deux points, que l'on suppose distincts !, ont la même abscisse, on renvoit simplement l'équation sous la forme $x=c$. Dans l'autre cas, on renvoit l'équation réduite de la droite en utilisant les fonctions permettant de déterminer le coefficient directeur et l'ordonnée à l'origine ci-dessus."
      ],
      "metadata": {}
    },
    {
      "cell_type": "code",
      "source": [
        "def EquationDeDroite(x1,y1,x2,y2):\n",
        "    if abs(x1-x2)<10**(-12):\n",
        "        return 'x='+str(x1)  # on revoie l'équation sous forme d'un texte\n",
        "    else:\n",
        "        a = CoefficientDirecteur(x1,y1,x2,y2)\n",
        "        b = OrdonneeALorigine(x1,y1,x2,y2)\n",
        "        return 'y='+str(a)+'*x+'+str(b)"
      ],
      "outputs": [],
      "execution_count": 42,
      "metadata": {}
    },
    {
      "cell_type": "code",
      "source": [
        "EquationDeDroite(2,4,2,8)"
      ],
      "outputs": [
        {
          "output_type": "execute_result",
          "execution_count": 43,
          "data": {
            "text/plain": [
              "'x=2'"
            ]
          },
          "metadata": {}
        }
      ],
      "execution_count": 43,
      "metadata": {}
    },
    {
      "cell_type": "code",
      "source": [
        "EquationDeDroite(2,4,5,5)"
      ],
      "outputs": [
        {
          "output_type": "execute_result",
          "execution_count": 44,
          "data": {
            "text/plain": [
              "'y=0.3333333333333333*x+3.3333333333333335'"
            ]
          },
          "metadata": {}
        }
      ],
      "execution_count": 44,
      "metadata": {}
    }
  ],
  "metadata": {
    "kernelspec": {
      "name": "python3",
      "language": "python",
      "display_name": "Python 3"
    },
    "language_info": {
      "name": "python",
      "version": "3.6.1",
      "mimetype": "text/x-python",
      "codemirror_mode": {
        "name": "ipython",
        "version": 3
      },
      "pygments_lexer": "ipython3",
      "nbconvert_exporter": "python",
      "file_extension": ".py"
    },
    "kernel_info": {
      "name": "python3"
    },
    "nteract": {
      "version": "0.2.0"
    }
  },
  "nbformat": 4,
  "nbformat_minor": 2
}