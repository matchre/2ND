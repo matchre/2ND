{
  "cells": [
    {
      "cell_type": "markdown",
      "source": [
        "# Algorithmes de Seconde - 2019"
      ],
      "metadata": {}
    },
    {
      "cell_type": "markdown",
      "source": [
        "# Partie \"Fonctions\""
      ],
      "metadata": {}
    },
    {
      "cell_type": "markdown",
      "source": [
        "## 1. Pour une fonction dont le tableau de variations est donné, algorithmes d’approximation numérique d’un extremum (balayage, dichotomie)."
      ],
      "metadata": {}
    },
    {
      "cell_type": "markdown",
      "source": [
        "On se place dans la situation d'une fonction $f$ définie sur un intervalle $[a;b]$, qui est croissante sur $[a;c]$ puis décroissante sur $[c;b]$. On cherche donc une valeur approchée de $f(c)$. On va choisir la fonction $f$ définie pour tout $x\\in[-4;0]$ par $f(x)=x^3+3x^2-2x+1$."
      ],
      "metadata": {}
    },
    {
      "cell_type": "markdown",
      "source": [
        "### Algorithme par balayage"
      ],
      "metadata": {}
    },
    {
      "cell_type": "code",
      "source": [
        "def f(x):\n",
        "    return x**3+3*x**2-2*x+1\n",
        "\n",
        "def BalayageExtremum(pas):\n",
        "    x = -4\n",
        "    maximum_provisoire = f(x)\n",
        "    while x<=0:\n",
        "        if f(x)>maximum_provisoire:\n",
        "            maximum_provisoire = f(x)\n",
        "        x = x + pas\n",
        "    return maximum_provisoire "
      ],
      "outputs": [],
      "execution_count": 49,
      "metadata": {}
    },
    {
      "cell_type": "code",
      "source": [
        "BalayageExtremum(0.00001)"
      ],
      "outputs": [
        {
          "output_type": "execute_result",
          "execution_count": 52,
          "data": {
            "text/plain": [
              "9.303314829042701"
            ]
          },
          "metadata": {}
        }
      ],
      "execution_count": 52,
      "metadata": {}
    },
    {
      "cell_type": "markdown",
      "source": [
        "**Remarque:** On peut améliorer l'algorithme en renvoyant à la fois la valeur approchée de l'extrémum et du réel en lequel il est atteint"
      ],
      "metadata": {}
    },
    {
      "cell_type": "code",
      "source": [
        "def f(x):\n",
        "    return x**3+3*x**2-2*x+1\n",
        "\n",
        "def BalayageExtremum2(pas):\n",
        "    x = -4\n",
        "    maximum_provisoire = f(x)\n",
        "    while x<=0:\n",
        "        if f(x)>maximum_provisoire:\n",
        "            maximum_provisoire = f(x)\n",
        "            x_cherche = x\n",
        "        x = x + pas\n",
        "    return x_cherche,maximum_provisoire"
      ],
      "outputs": [],
      "execution_count": 53,
      "metadata": {}
    },
    {
      "cell_type": "code",
      "source": [
        "BalayageExtremum2(0.00001)"
      ],
      "outputs": [
        {
          "output_type": "execute_result",
          "execution_count": 54,
          "data": {
            "text/plain": [
              "(-2.290989999988804, 9.303314829042701)"
            ]
          },
          "metadata": {}
        }
      ],
      "execution_count": 54,
      "metadata": {}
    },
    {
      "cell_type": "markdown",
      "source": [
        "------------------"
      ],
      "metadata": {}
    },
    {
      "cell_type": "markdown",
      "source": [
        "## 2. Algorithme de calcul approché de longueur d’une portion de courbe représentative de fonction."
      ],
      "metadata": {}
    },
    {
      "cell_type": "markdown",
      "source": [
        "On définit d'abord une fonction permettant de calculer la distance entre deux points dans un repère orthonormé. Une fonction $f$ étant définie, on approxime alors la longueur de la portion de courbe représentative de $f$ sur un intervalle $[a;b]$ choisi par l'utilisateur avec un pas également choisi par l'utilisateur.  \n",
        "\nOn peut également choisir de partager l'intervalle $[a;b]$ en $n$ parties égales."
      ],
      "metadata": {}
    },
    {
      "cell_type": "code",
      "source": [
        "from math import *\n",
        "\n",
        "def Distance(x1,y1,x2,y2):\n",
        "    return sqrt((x2-x1)**2+(y2-y1)**2)\n",
        "\n",
        "def f(x):\n",
        "    return x**3   # Fonction à choisir par l'utilisateur\n",
        "\n",
        "def LongueurCourbe(f,a,b,pas):\n",
        "    longueur = 0\n",
        "    x = a\n",
        "    while x<b:\n",
        "        longueur = longueur + Distance(x,f(x),x+pas,f(x+pas))\n",
        "        x = x + pas\n",
        "    return longueur"
      ],
      "outputs": [],
      "execution_count": 63,
      "metadata": {}
    },
    {
      "cell_type": "code",
      "source": [
        "LongueurCourbe(f,-5,5,0.001)"
      ],
      "outputs": [
        {
          "output_type": "execute_result",
          "execution_count": 64,
          "data": {
            "text/plain": [
              "251.360601033675"
            ]
          },
          "metadata": {}
        }
      ],
      "execution_count": 64,
      "metadata": {}
    }
  ],
  "metadata": {
    "kernelspec": {
      "name": "python3",
      "language": "python",
      "display_name": "Python 3"
    },
    "language_info": {
      "name": "python",
      "version": "3.6.1",
      "mimetype": "text/x-python",
      "codemirror_mode": {
        "name": "ipython",
        "version": 3
      },
      "pygments_lexer": "ipython3",
      "nbconvert_exporter": "python",
      "file_extension": ".py"
    },
    "kernel_info": {
      "name": "python3"
    },
    "nteract": {
      "version": "0.2.0"
    }
  },
  "nbformat": 4,
  "nbformat_minor": 2
}