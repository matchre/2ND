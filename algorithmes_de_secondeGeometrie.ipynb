{
  "cells": [
    {
      "cell_type": "markdown",
      "source": [
        "# Algorithmes de Seconde - 2019"
      ],
      "metadata": {}
    },
    {
      "cell_type": "markdown",
      "source": [
        "# Partie \"Géométrie\""
      ],
      "metadata": {}
    },
    {
      "cell_type": "markdown",
      "source": [
        "## 1. Étudier l’alignement de trois points dans le plan."
      ],
      "metadata": {}
    },
    {
      "cell_type": "markdown",
      "source": [
        "La référence à cet algorithme apparait dans le programme officiel dans la partie \"Représenter et caractériser les droites du plan\". On peut donc utiliser cette approche pour étudier l'alignement de trois points du plan. \n",
        "On peut également faire référence à la colinéarité des vecteurs en utilisant le déterminant de deux vecteurs.\n",
        "\nÀ noter qu'il faut prendre garde aux tests d'égalités avec des flottants !"
      ],
      "metadata": {}
    },
    {
      "cell_type": "markdown",
      "source": [
        "### Version utilisant les équations de droites"
      ],
      "metadata": {}
    },
    {
      "cell_type": "markdown",
      "source": [
        "On détermine le coefficient directeur et l'ordonnée à l'origine de la droite formée par les deux premiers points (dans le cas où ils ont des abscisses différentes) puis on teste si les coordonnées du troisième point vérifient ou non l'équation de la droite."
      ],
      "metadata": {}
    },
    {
      "cell_type": "code",
      "source": [
        "def CoefficientDirecteur(x1,y1,x2,y2): # On se place dans le cas où x1 est différent de x2\n",
        "    return (y2-y1)/(x2-x1)\n",
        "\n",
        "def OrdonneeALorigine(x1,y1,x2,y2): # On se place dans la cas où x1 est différence de x3\n",
        "    return y1-CoefficientDirecteur(x1,y1,x2,y2)*x1\n",
        "\n",
        "def PointsAlignes(x1,y1,x2,y2,x3,y3):\n",
        "    if abs(x1-x2) < 10**(-12):\n",
        "        if abs(x1-x3) < 10**(-12):\n",
        "            return True\n",
        "        else:\n",
        "            return False\n",
        "    else:\n",
        "        a = CoefficientDirecteur(x1,y1,x2,y2)\n",
        "        b = OrdonneeALorigine(x1,y1,x2,y2)\n",
        "        if abs(y3-a*x3-b) < 10**(-12):\n",
        "            return True\n",
        "        else:\n",
        "            return False"
      ],
      "outputs": [],
      "execution_count": 25,
      "metadata": {}
    },
    {
      "cell_type": "code",
      "source": [
        "PointsAlignes(3,4,3,5,3.1,6)"
      ],
      "outputs": [
        {
          "output_type": "execute_result",
          "execution_count": 26,
          "data": {
            "text/plain": [
              "False"
            ]
          },
          "metadata": {}
        }
      ],
      "execution_count": 26,
      "metadata": {}
    },
    {
      "cell_type": "code",
      "source": [
        "PointsAlignes(3,4,3,5,3,6)"
      ],
      "outputs": [
        {
          "output_type": "execute_result",
          "execution_count": 27,
          "data": {
            "text/plain": [
              "True"
            ]
          },
          "metadata": {}
        }
      ],
      "execution_count": 27,
      "metadata": {}
    },
    {
      "cell_type": "code",
      "source": [
        "PointsAlignes(2,3,7,8,17,18)"
      ],
      "outputs": [
        {
          "output_type": "execute_result",
          "execution_count": 28,
          "data": {
            "text/plain": [
              "True"
            ]
          },
          "metadata": {}
        }
      ],
      "execution_count": 28,
      "metadata": {}
    },
    {
      "cell_type": "code",
      "source": [
        "PointsAlignes(2,3,7,8,17,18.001)"
      ],
      "outputs": [
        {
          "output_type": "execute_result",
          "execution_count": 29,
          "data": {
            "text/plain": [
              "False"
            ]
          },
          "metadata": {}
        }
      ],
      "execution_count": 29,
      "metadata": {}
    },
    {
      "cell_type": "markdown",
      "source": [
        "### Version utilisant la colinéarité de vecteurs"
      ],
      "metadata": {}
    },
    {
      "cell_type": "markdown",
      "source": [
        "On crée d'abord une fonction calculant le déterminant de deux vecteurs que l'on réinvestit ensuite."
      ],
      "metadata": {}
    },
    {
      "cell_type": "code",
      "source": [
        "def determinant(xu,yu,xv,yv):\n",
        "    return xu*yv-yu*xv\n",
        "\n",
        "def PointsAlignes2(x1,y1,x2,y2,x3,y3):\n",
        "    if abs(determinant(x2-x1,y2-y1,x3-x1,y3-y1))<10**(-12):\n",
        "        return True\n",
        "    else:\n",
        "        return False"
      ],
      "outputs": [],
      "execution_count": 38,
      "metadata": {}
    },
    {
      "cell_type": "code",
      "source": [
        "PointsAlignes2(2,3,7,8,17,18)"
      ],
      "outputs": [
        {
          "output_type": "execute_result",
          "execution_count": 40,
          "data": {
            "text/plain": [
              "True"
            ]
          },
          "metadata": {}
        }
      ],
      "execution_count": 40,
      "metadata": {}
    },
    {
      "cell_type": "code",
      "source": [
        "PointsAlignes2(2,3,7,8,17,18.001)"
      ],
      "outputs": [
        {
          "output_type": "execute_result",
          "execution_count": 41,
          "data": {
            "text/plain": [
              "False"
            ]
          },
          "metadata": {}
        }
      ],
      "execution_count": 41,
      "metadata": {}
    },
    {
      "cell_type": "markdown",
      "source": [
        "------------------"
      ],
      "metadata": {}
    },
    {
      "cell_type": "markdown",
      "source": [
        "## 2. Déterminer une équation de droite passant par deux points donnés."
      ],
      "metadata": {}
    },
    {
      "cell_type": "markdown",
      "source": [
        "Dans le cas où les deux points, que l'on suppose distincts !, ont la même abscisse, on renvoit simplement l'équation sous la forme $x=c$. Dans l'autre cas, on renvoit l'équation réduite de la droite en utilisant les fonctions permettant de déterminer le coefficient directeur et l'ordonnée à l'origine ci-dessus."
      ],
      "metadata": {}
    },
    {
      "cell_type": "code",
      "source": [
        "def EquationDeDroite(x1,y1,x2,y2):\n",
        "    if abs(x1-x2)<10**(-12):\n",
        "        return 'x='+str(x1)  # on revoie l'équation sous forme d'un texte\n",
        "    else:\n",
        "        a = CoefficientDirecteur(x1,y1,x2,y2)\n",
        "        b = OrdonneeALorigine(x1,y1,x2,y2)\n",
        "        return 'y='+str(a)+'*x+'+str(b)"
      ],
      "outputs": [],
      "execution_count": 42,
      "metadata": {}
    },
    {
      "cell_type": "code",
      "source": [
        "EquationDeDroite(2,4,2,8)"
      ],
      "outputs": [
        {
          "output_type": "execute_result",
          "execution_count": 43,
          "data": {
            "text/plain": [
              "'x=2'"
            ]
          },
          "metadata": {}
        }
      ],
      "execution_count": 43,
      "metadata": {}
    },
    {
      "cell_type": "code",
      "source": [
        "EquationDeDroite(2,4,5,5)"
      ],
      "outputs": [
        {
          "output_type": "execute_result",
          "execution_count": 44,
          "data": {
            "text/plain": [
              "'y=0.3333333333333333*x+3.3333333333333335'"
            ]
          },
          "metadata": {}
        }
      ],
      "execution_count": 44,
      "metadata": {}
    }
  ],
  "metadata": {
    "kernelspec": {
      "name": "python3",
      "language": "python",
      "display_name": "Python 3"
    },
    "language_info": {
      "name": "python",
      "version": "3.6.1",
      "mimetype": "text/x-python",
      "codemirror_mode": {
        "name": "ipython",
        "version": 3
      },
      "pygments_lexer": "ipython3",
      "nbconvert_exporter": "python",
      "file_extension": ".py"
    },
    "kernel_info": {
      "name": "python3"
    },
    "nteract": {
      "version": "0.2.0"
    }
  },
  "nbformat": 4,
  "nbformat_minor": 2
}